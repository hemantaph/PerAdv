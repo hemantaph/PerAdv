{
 "cells": [
  {
   "cell_type": "markdown",
   "id": "77771cd9-5776-46e3-87dc-1a8e901bf17a",
   "metadata": {},
   "source": [
    "# Injection comparision\n",
    "* PerAdvFDLeO(Leading order $e_0$) Vs PerAdvFD1PNAmpLeO Vs TaylorF2Ecc(3.5PN phase) Vs TaylorF2(3.0PN phase)\n",
    "* 3 types of PerAdv code\n",
    "1. PerAdvFDCir (0PN amplitude, 3PN order phase, e0=0, k=0, k:periastron advancement)\n",
    "2. PerAdvFDLeO (0PN amplitude, 0PN amplitude, 3PN $e_0^2$ order phase)\n",
    "3. PerAdv1PNAmpFDLeO (1PN $e_0^1$ amplitude, 3PN $e_0^2$ order phase)"
   ]
  },
  {
   "cell_type": "code",
   "execution_count": 22,
   "id": "5a0d9b92-4642-4590-9788-ecf516b3ce02",
   "metadata": {},
   "outputs": [],
   "source": [
    "import numpy as np\n",
    "import bilby\n",
    "import matplotlib.pyplot as plt\n",
    "%matplotlib inline\n",
    "\n",
    "C = 299792458.\n",
    "G = 6.67408*1e-11\n",
    "Mo = 1.989*1e30\n",
    "Mpc = 3.086*1e22"
   ]
  },
  {
   "cell_type": "code",
   "execution_count": 3,
   "id": "a5558a0f-91e3-43c1-8f3c-44571cada22e",
   "metadata": {},
   "outputs": [],
   "source": [
    "time_of_event = 1246527184.169434\n",
    "post_trigger_duration = 1.\n",
    "duration = 6.0\n",
    "analysis_start = time_of_event + post_trigger_duration - duration\n",
    "sampling_frequency = 4096."
   ]
  },
  {
   "cell_type": "markdown",
   "id": "c640571c-3f29-4ea9-abfa-3e97d6aa0452",
   "metadata": {},
   "source": [
    "# Frequency point check.\n",
    "* speed test"
   ]
  },
  {
   "cell_type": "code",
   "execution_count": 23,
   "id": "e9b9de5d-1b3a-41ba-bbb6-9f8b91e95474",
   "metadata": {},
   "outputs": [
    {
     "name": "stdout",
     "output_type": "stream",
     "text": [
      "1.25 ms ± 101 µs per loop (mean ± std. dev. of 7 runs, 1,000 loops each)\n"
     ]
    }
   ],
   "source": [
    "# below I am also including the name of the input pameters\n",
    "# lal_PerAdvFD(frequency_array,mass_1,mass_2,eccentricity,luminosity_distance,theta_jn,phase, **kwargs)\n",
    "# Circular PerAdvFD\n",
    "%timeit bilby.gw.source.lal_PerAdvFDCir(np.array([20,30,40]), 6.5, 5.8, 0.1, 200, 0.4, 1.3) # note: PerAdvFDCir is not optimized"
   ]
  },
  {
   "cell_type": "code",
   "execution_count": 24,
   "id": "49c368b2-1263-4a09-8eb4-be540516caf4",
   "metadata": {},
   "outputs": [
    {
     "name": "stdout",
     "output_type": "stream",
     "text": [
      "1.27 ms ± 42.2 µs per loop (mean ± std. dev. of 7 runs, 1,000 loops each)\n"
     ]
    }
   ],
   "source": [
    "# 0PN Amp PerAdvFD, leading order in eccentricity, 3PN in phase\n",
    "%timeit bilby.gw.source.lal_PerAdvFDLeO(np.array([20,30,40]), 6.5, 5.8, 0.1, 200, 0.4, 1.3)"
   ]
  },
  {
   "cell_type": "code",
   "execution_count": 29,
   "id": "a880f761-f6b8-40ff-b2de-c320ff35c032",
   "metadata": {},
   "outputs": [
    {
     "name": "stdout",
     "output_type": "stream",
     "text": [
      "1.21 ms ± 49.4 µs per loop (mean ± std. dev. of 7 runs, 1,000 loops each)\n"
     ]
    }
   ],
   "source": [
    "# 1PN Amp PerAdvFD, leading order in eccentricity, 3PN in phase\n",
    "%timeit bilby.gw.source.lal_PerAdvFD1PNAmpLeO(np.array([20,30,40]), 6.5, 5.8, 0.1, 200, 0.4, 1.3)"
   ]
  },
  {
   "cell_type": "markdown",
   "id": "7c46582a-92bb-49cc-86d3-d0bcaeb3ad20",
   "metadata": {},
   "source": [
    "## here is quick frequency point check between TaylorF2 and TaylorF2Ecc(e0=0.1)."
   ]
  },
  {
   "cell_type": "code",
   "execution_count": 19,
   "id": "a2a020b0-5818-405d-8556-5e4ee17c6f50",
   "metadata": {},
   "outputs": [
    {
     "name": "stdout",
     "output_type": "stream",
     "text": [
      "115 µs ± 19.4 µs per loop (mean ± std. dev. of 7 runs, 10,000 loops each)\n"
     ]
    }
   ],
   "source": [
    "# 3.5 PN in phase, 0PN in Amp\n",
    "%timeit bilby.gw.source.lal_taylorF2Ecc_fd(np.array([20,30,40]), 6.5, 5.8, 0.0, 200, 0.1, 0.0, 0.4, 1.3)"
   ]
  },
  {
   "cell_type": "code",
   "execution_count": 13,
   "id": "2476849b-2f8c-416c-89a2-388de26db2ea",
   "metadata": {},
   "outputs": [
    {
     "name": "stdout",
     "output_type": "stream",
     "text": [
      "129 µs ± 12.1 µs per loop (mean ± std. dev. of 7 runs, 10,000 loops each)\n"
     ]
    }
   ],
   "source": [
    "# 3.5 PN in phase, 0PN in Amp\n",
    "%timeit bilby.gw.source.lal_taylorF2_fd(np.array([20,30,40]), 6.5, 5.8, 200, 0.0, 0.0, 0.4, 1.3)"
   ]
  },
  {
   "cell_type": "markdown",
   "id": "461f3cc3-c3af-4f26-84fe-246c53f84843",
   "metadata": {},
   "source": [
    "# Injection and plot of amplitude and phase evolution wrt frequency\n",
    "* injection of GW150914 like event\n",
    "* spinless case\n",
    "* f_min = 10Hz\n",
    "* change the eccentricity value according to your liking"
   ]
  },
  {
   "cell_type": "code",
   "execution_count": 4,
   "id": "55f48e8e-d2a1-4ad3-aa8d-eab10ea7f524",
   "metadata": {},
   "outputs": [
    {
     "name": "stdout",
     "output_type": "stream",
     "text": [
      "chirp_mass = 28.09555579546043, mass_ratio = 0.8055555555555556\n",
      "flso = 67.6310005682923\n"
     ]
    }
   ],
   "source": [
    "# mass to chirp_mass and mass_ratio conversion \n",
    "mass_1 = 36.\n",
    "mass_2 = 29.\n",
    "\n",
    "chirp_mass = ( (mass_1*mass_2)**(3/5) )/( (mass_1+mass_2)**(1/5) )\n",
    "mass_ratio = mass_2/mass_1\n",
    "print(\"chirp_mass = {}, mass_ratio = {}\".format(chirp_mass, mass_ratio))\n",
    "\n",
    "ff = (C**3)/( G*(mass_1+mass_2)*Mo*np.pi*6**(3/2) )\n",
    "print(\"flso = {}\".format(ff))"
   ]
  },
  {
   "cell_type": "code",
   "execution_count": 5,
   "id": "6c648a55-afbf-4d81-9a1b-1e50ca6220f4",
   "metadata": {},
   "outputs": [
    {
     "name": "stdout",
     "output_type": "stream",
     "text": [
      "mass_1 = 35.99999999999999, mass_2 = 28.999999999999996\n",
      "flso = 67.63100056829231\n"
     ]
    }
   ],
   "source": [
    "chirp_mass_ = 28.09555579546043\n",
    "mass_ratio_ =  0.8055555555555556\n",
    "\n",
    "mass_1_ = (chirp_mass_*(1+mass_ratio_)**(1/5))/mass_ratio_**(3/5)\n",
    "mass_2_ = chirp_mass_*mass_ratio_**(2/5)*(1+mass_ratio_)**(1/5)\n",
    "print(\"mass_1 = {}, mass_2 = {}\".format(mass_1_, mass_2_))\n",
    "ff = (C**3)/( G*(mass_1_+mass_2_)*Mo*np.pi*6**(3/2) )\n",
    "print(\"flso = {}\".format(ff))"
   ]
  },
  {
   "cell_type": "code",
   "execution_count": 6,
   "id": "5018fb16-baa5-4d65-8d8b-985656dfd421",
   "metadata": {},
   "outputs": [
    {
     "name": "stderr",
     "output_type": "stream",
     "text": [
      "07:46 bilby INFO    : Waveform generator initiated with\n",
      "  frequency_domain_source_model: bilby.gw.source.lal_PerAdvFDLeO\n",
      "  time_domain_source_model: None\n",
      "  parameter_conversion: bilby.gw.conversion.convert_to_lal_binary_black_hole_parameters\n",
      "07:46 bilby INFO    : Injected signal in H1:\n",
      "07:46 bilby INFO    :   optimal SNR = 40.44\n",
      "07:46 bilby INFO    :   matched filter SNR = 39.38+1.19j\n",
      "07:46 bilby INFO    :   mass_1 = 36.0\n",
      "07:46 bilby INFO    :   mass_2 = 29.0\n",
      "07:46 bilby INFO    :   eccentricity = 0.0\n",
      "07:46 bilby INFO    :   a_1 = 0.0\n",
      "07:46 bilby INFO    :   a_2 = 0.0\n",
      "07:46 bilby INFO    :   tilt_1 = 0.0\n",
      "07:46 bilby INFO    :   tilt_2 = 0.0\n",
      "07:46 bilby INFO    :   phi_12 = 0.0\n",
      "07:46 bilby INFO    :   phi_jl = 0.0\n",
      "07:46 bilby INFO    :   luminosity_distance = 600.0\n",
      "07:46 bilby INFO    :   theta_jn = 0.4\n",
      "07:46 bilby INFO    :   psi = 2.659\n",
      "07:46 bilby INFO    :   phase = 1.3\n",
      "07:46 bilby INFO    :   geocent_time = 1246527184.169434\n",
      "07:46 bilby INFO    :   ra = 1.375\n",
      "07:46 bilby INFO    :   dec = -1.2108\n",
      "07:46 bilby INFO    : Injected signal in L1:\n",
      "07:46 bilby INFO    :   optimal SNR = 30.43\n",
      "07:46 bilby INFO    :   matched filter SNR = 30.48+1.09j\n",
      "07:46 bilby INFO    :   mass_1 = 36.0\n",
      "07:46 bilby INFO    :   mass_2 = 29.0\n",
      "07:46 bilby INFO    :   eccentricity = 0.0\n",
      "07:46 bilby INFO    :   a_1 = 0.0\n",
      "07:46 bilby INFO    :   a_2 = 0.0\n",
      "07:46 bilby INFO    :   tilt_1 = 0.0\n",
      "07:46 bilby INFO    :   tilt_2 = 0.0\n",
      "07:46 bilby INFO    :   phi_12 = 0.0\n",
      "07:46 bilby INFO    :   phi_jl = 0.0\n",
      "07:46 bilby INFO    :   luminosity_distance = 600.0\n",
      "07:46 bilby INFO    :   theta_jn = 0.4\n",
      "07:46 bilby INFO    :   psi = 2.659\n",
      "07:46 bilby INFO    :   phase = 1.3\n",
      "07:46 bilby INFO    :   geocent_time = 1246527184.169434\n",
      "07:46 bilby INFO    :   ra = 1.375\n",
      "07:46 bilby INFO    :   dec = -1.2108\n"
     ]
    },
    {
     "data": {
      "text/plain": [
       "[{'plus': array([0.+0.j, 0.+0.j, 0.+0.j, ..., 0.+0.j, 0.+0.j, 0.+0.j]),\n",
       "  'cross': array([0.+0.j, 0.+0.j, 0.+0.j, ..., 0.+0.j, 0.+0.j, 0.+0.j])},\n",
       " {'plus': array([0.+0.j, 0.+0.j, 0.+0.j, ..., 0.+0.j, 0.+0.j, 0.+0.j]),\n",
       "  'cross': array([0.+0.j, 0.+0.j, 0.+0.j, ..., 0.+0.j, 0.+0.j, 0.+0.j])}]"
      ]
     },
     "execution_count": 6,
     "metadata": {},
     "output_type": "execute_result"
    }
   ],
   "source": [
    "############# PerAdvFDLeO waveform model ################\n",
    "injection_parameters = {'mass_1':36., 'mass_2':29., 'eccentricity':0.0, 'a_1':0., 'a_2':0., 'tilt_1':0.,\n",
    "                         'tilt_2':0., 'phi_12':0., 'phi_jl':0., 'luminosity_distance':600., 'theta_jn':0.4, 'psi':2.659, \n",
    "                         'phase':1.3, 'geocent_time':1246527184.169434, 'ra':1.375, 'dec':-1.2108,}\n",
    "\n",
    "waveform_arguments = dict(waveform_approximant='PerAdvFDLeO',\n",
    "                          reference_frequency=10., minimum_frequency=10.)\n",
    "\n",
    "waveform_generator = bilby.gw.WaveformGenerator(\n",
    "    duration=duration, sampling_frequency=sampling_frequency,\n",
    "    frequency_domain_source_model=bilby.gw.source.lal_PerAdvFDLeO,\n",
    "    parameters=injection_parameters, waveform_arguments=waveform_arguments)\n",
    "\n",
    "minimum_frequency = 10.0\n",
    "maximum_frequency = 67\n",
    "\n",
    "ifos = bilby.gw.detector.InterferometerList(['H1', 'L1'])\n",
    "for ifo in ifos:\n",
    "    ifo.minimum_frequency = minimum_frequency\n",
    "    ifo.maximum_frequency = maximum_frequency\n",
    "ifos.set_strain_data_from_power_spectral_densities(\n",
    "    sampling_frequency=sampling_frequency, duration=duration,\n",
    "    start_time=analysis_start)\n",
    "ifos.inject_signal(waveform_generator=waveform_generator,\n",
    "                   parameters=injection_parameters)"
   ]
  },
  {
   "cell_type": "code",
   "execution_count": 7,
   "id": "40781f0c-1201-49db-a2d7-269a4a8b2a0c",
   "metadata": {},
   "outputs": [
    {
     "data": {
      "text/plain": [
       "50.61147421134975"
      ]
     },
     "execution_count": 7,
     "metadata": {},
     "output_type": "execute_result"
    }
   ],
   "source": [
    "snrs = [ifo.meta_data[\"optimal_SNR\"] for ifo in ifos]\n",
    "np.sqrt(np.sum([i ** 2 for i in snrs]))"
   ]
  },
  {
   "cell_type": "code",
   "execution_count": 8,
   "id": "7eb46a87-9320-48a1-8e42-0f72087c15c7",
   "metadata": {
    "tags": []
   },
   "outputs": [
    {
     "name": "stderr",
     "output_type": "stream",
     "text": [
      "07:46 bilby INFO    : Waveform generator initiated with\n",
      "  frequency_domain_source_model: bilby.gw.source.lal_PerAdvFD1PNAmpLeO\n",
      "  time_domain_source_model: None\n",
      "  parameter_conversion: bilby.gw.conversion.convert_to_lal_binary_black_hole_parameters\n",
      "07:46 bilby INFO    : Injected signal in H1:\n",
      "07:46 bilby INFO    :   optimal SNR = 36.99\n",
      "07:46 bilby INFO    :   matched filter SNR = 37.06+0.27j\n",
      "07:46 bilby INFO    :   mass_1 = 36.0\n",
      "07:46 bilby INFO    :   mass_2 = 29.0\n",
      "07:46 bilby INFO    :   eccentricity = 0.0\n",
      "07:46 bilby INFO    :   a_1 = 0.0\n",
      "07:46 bilby INFO    :   a_2 = 0.0\n",
      "07:46 bilby INFO    :   tilt_1 = 0.0\n",
      "07:46 bilby INFO    :   tilt_2 = 0.0\n",
      "07:46 bilby INFO    :   phi_12 = 0.0\n",
      "07:46 bilby INFO    :   phi_jl = 0.0\n",
      "07:46 bilby INFO    :   luminosity_distance = 600.0\n",
      "07:46 bilby INFO    :   theta_jn = 0.4\n",
      "07:46 bilby INFO    :   psi = 2.659\n",
      "07:46 bilby INFO    :   phase = 1.3\n",
      "07:46 bilby INFO    :   geocent_time = 1246527184.169434\n",
      "07:46 bilby INFO    :   ra = 1.375\n",
      "07:46 bilby INFO    :   dec = -1.2108\n",
      "07:46 bilby INFO    : Injected signal in L1:\n",
      "07:46 bilby INFO    :   optimal SNR = 27.84\n",
      "07:46 bilby INFO    :   matched filter SNR = 26.39+0.24j\n",
      "07:46 bilby INFO    :   mass_1 = 36.0\n",
      "07:46 bilby INFO    :   mass_2 = 29.0\n",
      "07:46 bilby INFO    :   eccentricity = 0.0\n",
      "07:46 bilby INFO    :   a_1 = 0.0\n",
      "07:46 bilby INFO    :   a_2 = 0.0\n",
      "07:46 bilby INFO    :   tilt_1 = 0.0\n",
      "07:46 bilby INFO    :   tilt_2 = 0.0\n",
      "07:46 bilby INFO    :   phi_12 = 0.0\n",
      "07:46 bilby INFO    :   phi_jl = 0.0\n",
      "07:46 bilby INFO    :   luminosity_distance = 600.0\n",
      "07:46 bilby INFO    :   theta_jn = 0.4\n",
      "07:46 bilby INFO    :   psi = 2.659\n",
      "07:46 bilby INFO    :   phase = 1.3\n",
      "07:46 bilby INFO    :   geocent_time = 1246527184.169434\n",
      "07:46 bilby INFO    :   ra = 1.375\n",
      "07:46 bilby INFO    :   dec = -1.2108\n"
     ]
    },
    {
     "data": {
      "text/plain": [
       "[{'plus': array([0.+0.j, 0.+0.j, 0.+0.j, ..., 0.+0.j, 0.+0.j, 0.+0.j]),\n",
       "  'cross': array([0.+0.j, 0.+0.j, 0.+0.j, ..., 0.+0.j, 0.+0.j, 0.+0.j])},\n",
       " {'plus': array([0.+0.j, 0.+0.j, 0.+0.j, ..., 0.+0.j, 0.+0.j, 0.+0.j]),\n",
       "  'cross': array([0.+0.j, 0.+0.j, 0.+0.j, ..., 0.+0.j, 0.+0.j, 0.+0.j])}]"
      ]
     },
     "execution_count": 8,
     "metadata": {},
     "output_type": "execute_result"
    }
   ],
   "source": [
    "############# PerAdvFD1PNAmpLeO waveform model ################\n",
    "injection_parameters2 = {'mass_1':36., 'mass_2':29., 'eccentricity':0.0, 'a_1':0., 'a_2':0., 'tilt_1':0.,\n",
    "                         'tilt_2':0., 'phi_12':0., 'phi_jl':0., 'luminosity_distance':600., 'theta_jn':0.4, 'psi':2.659, \n",
    "                         'phase':1.3, 'geocent_time':1246527184.169434, 'ra':1.375, 'dec':-1.2108,}\n",
    "\n",
    "waveform_arguments2 = dict(waveform_approximant='PerAdvFD1PNAmpLeO',\n",
    "                          reference_frequency=10., minimum_frequency=10.)\n",
    "\n",
    "waveform_generator2 = bilby.gw.WaveformGenerator(\n",
    "    duration=duration, sampling_frequency=sampling_frequency,\n",
    "    frequency_domain_source_model=bilby.gw.source.lal_PerAdvFD1PNAmpLeO,\n",
    "    parameters=injection_parameters2, waveform_arguments=waveform_arguments2)\n",
    "\n",
    "minimum_frequency = 10.0\n",
    "maximum_frequency = 67\n",
    "\n",
    "ifos2 = bilby.gw.detector.InterferometerList(['H1', 'L1'])\n",
    "for ifo in ifos2:\n",
    "    ifo.minimum_frequency = minimum_frequency\n",
    "    ifo.maximum_frequency = maximum_frequency\n",
    "ifos2.set_strain_data_from_power_spectral_densities(\n",
    "    sampling_frequency=sampling_frequency, duration=duration,\n",
    "    start_time=analysis_start)\n",
    "ifos2.inject_signal(waveform_generator=waveform_generator2,\n",
    "                   parameters=injection_parameters2)"
   ]
  },
  {
   "cell_type": "code",
   "execution_count": 9,
   "id": "bff96362-1c7c-4a12-a34d-06c81fe55a13",
   "metadata": {},
   "outputs": [
    {
     "data": {
      "text/plain": [
       "46.29681477464922"
      ]
     },
     "execution_count": 9,
     "metadata": {},
     "output_type": "execute_result"
    }
   ],
   "source": [
    "snrs = [ifo.meta_data[\"optimal_SNR\"] for ifo in ifos2]\n",
    "np.sqrt(np.sum([i ** 2 for i in snrs]))"
   ]
  },
  {
   "cell_type": "code",
   "execution_count": 10,
   "id": "dbf7e4bd-3900-4133-899c-fb6386b3d539",
   "metadata": {},
   "outputs": [
    {
     "name": "stderr",
     "output_type": "stream",
     "text": [
      "07:46 bilby INFO    : Waveform generator initiated with\n",
      "  frequency_domain_source_model: bilby.gw.source.lal_taylorF2Ecc_fd\n",
      "  time_domain_source_model: None\n",
      "  parameter_conversion: bilby.gw.conversion.convert_to_lal_binary_black_hole_parameters\n",
      "07:46 bilby INFO    : Injected signal in H1:\n",
      "07:46 bilby INFO    :   optimal SNR = 40.44\n",
      "07:46 bilby INFO    :   matched filter SNR = 40.31+0.69j\n",
      "07:46 bilby INFO    :   mass_1 = 36.0\n",
      "07:46 bilby INFO    :   mass_2 = 29.0\n",
      "07:46 bilby INFO    :   eccentricity = 0.0\n",
      "07:46 bilby INFO    :   a_1 = 0.0\n",
      "07:46 bilby INFO    :   a_2 = 0.0\n",
      "07:46 bilby INFO    :   tilt_1 = 0.0\n",
      "07:46 bilby INFO    :   tilt_2 = 0.0\n",
      "07:46 bilby INFO    :   phi_12 = 0.0\n",
      "07:46 bilby INFO    :   phi_jl = 0.0\n",
      "07:46 bilby INFO    :   luminosity_distance = 600.0\n",
      "07:46 bilby INFO    :   theta_jn = 0.4\n",
      "07:46 bilby INFO    :   psi = 2.659\n",
      "07:46 bilby INFO    :   phase = 1.3\n",
      "07:46 bilby INFO    :   geocent_time = 1246527184.169434\n",
      "07:46 bilby INFO    :   ra = 1.375\n",
      "07:46 bilby INFO    :   dec = -1.2108\n",
      "07:46 bilby INFO    : Injected signal in L1:\n",
      "07:46 bilby INFO    :   optimal SNR = 30.43\n",
      "07:46 bilby INFO    :   matched filter SNR = 30.79+0.52j\n",
      "07:46 bilby INFO    :   mass_1 = 36.0\n",
      "07:46 bilby INFO    :   mass_2 = 29.0\n",
      "07:46 bilby INFO    :   eccentricity = 0.0\n",
      "07:46 bilby INFO    :   a_1 = 0.0\n",
      "07:46 bilby INFO    :   a_2 = 0.0\n",
      "07:46 bilby INFO    :   tilt_1 = 0.0\n",
      "07:46 bilby INFO    :   tilt_2 = 0.0\n",
      "07:46 bilby INFO    :   phi_12 = 0.0\n",
      "07:46 bilby INFO    :   phi_jl = 0.0\n",
      "07:46 bilby INFO    :   luminosity_distance = 600.0\n",
      "07:46 bilby INFO    :   theta_jn = 0.4\n",
      "07:46 bilby INFO    :   psi = 2.659\n",
      "07:46 bilby INFO    :   phase = 1.3\n",
      "07:46 bilby INFO    :   geocent_time = 1246527184.169434\n",
      "07:46 bilby INFO    :   ra = 1.375\n",
      "07:46 bilby INFO    :   dec = -1.2108\n"
     ]
    },
    {
     "data": {
      "text/plain": [
       "[{'plus': array([0.00000000e+00+0.00000000e+00j, 0.00000000e+00+0.00000000e+00j,\n",
       "         0.00000000e+00+0.00000000e+00j, ...,\n",
       "         1.40047610e-25-2.25601589e-25j, 1.40861951e-25-2.25064283e-25j,\n",
       "         1.41674207e-25-2.24524062e-25j]),\n",
       "  'cross': array([ 0.00000000e+00+0.00000000e+00j,  0.00000000e+00+0.00000000e+00j,\n",
       "          0.00000000e+00+0.00000000e+00j, ...,\n",
       "         -2.24841017e-25-1.39575467e-25j, -2.24305522e-25-1.40387062e-25j,\n",
       "         -2.23767122e-25-1.41196580e-25j])},\n",
       " {'plus': array([0.00000000e+00+0.00000000e+00j, 0.00000000e+00+0.00000000e+00j,\n",
       "         0.00000000e+00+0.00000000e+00j, ...,\n",
       "         1.40047610e-25-2.25601589e-25j, 1.40861951e-25-2.25064283e-25j,\n",
       "         1.41674207e-25-2.24524062e-25j]),\n",
       "  'cross': array([ 0.00000000e+00+0.00000000e+00j,  0.00000000e+00+0.00000000e+00j,\n",
       "          0.00000000e+00+0.00000000e+00j, ...,\n",
       "         -2.24841017e-25-1.39575467e-25j, -2.24305522e-25-1.40387062e-25j,\n",
       "         -2.23767122e-25-1.41196580e-25j])}]"
      ]
     },
     "execution_count": 10,
     "metadata": {},
     "output_type": "execute_result"
    }
   ],
   "source": [
    "############# TaylorF2Eccn waveform model ################\n",
    "injection_parameters3 = {'mass_1':36., 'mass_2':29., 'eccentricity':0.0, 'a_1':0., 'a_2':0., 'tilt_1':0.,\n",
    "                         'tilt_2':0., 'phi_12':0., 'phi_jl':0., 'luminosity_distance':600., 'theta_jn':0.4, 'psi':2.659, \n",
    "                         'phase':1.3, 'geocent_time':1246527184.169434, 'ra':1.375, 'dec':-1.2108,}\n",
    "\n",
    "waveform_arguments3 = dict(waveform_approximant='TaylorF2Ecc',\n",
    "                          reference_frequency=10., minimum_frequency=10., pn_phase_order=6)\n",
    "\n",
    "waveform_generator3 = bilby.gw.WaveformGenerator(\n",
    "    duration=duration, sampling_frequency=sampling_frequency,\n",
    "    frequency_domain_source_model=bilby.gw.source.lal_taylorF2Ecc_fd,\n",
    "    parameters=injection_parameters3, waveform_arguments=waveform_arguments3)\n",
    "\n",
    "minimum_frequency = 10.0\n",
    "maximum_frequency = 67\n",
    "\n",
    "ifos3 = bilby.gw.detector.InterferometerList(['H1', 'L1'])\n",
    "for ifo in ifos3:\n",
    "    ifo.minimum_frequency = minimum_frequency\n",
    "    ifo.maximum_frequency = maximum_frequency\n",
    "ifos3.set_strain_data_from_power_spectral_densities(\n",
    "    sampling_frequency=sampling_frequency, duration=duration,\n",
    "    start_time=analysis_start)\n",
    "ifos3.inject_signal(waveform_generator=waveform_generator3,\n",
    "                   parameters=injection_parameters3)"
   ]
  },
  {
   "cell_type": "code",
   "execution_count": 11,
   "id": "9ca1f95e-1944-425d-bcd1-38d58d90089f",
   "metadata": {},
   "outputs": [
    {
     "data": {
      "text/plain": [
       "50.612864477091684"
      ]
     },
     "execution_count": 11,
     "metadata": {},
     "output_type": "execute_result"
    }
   ],
   "source": [
    "snrs = [ifo.meta_data[\"optimal_SNR\"] for ifo in ifos3]\n",
    "np.sqrt(np.sum([i ** 2 for i in snrs]))"
   ]
  },
  {
   "cell_type": "code",
   "execution_count": 12,
   "id": "014bd5a6-84ab-48dc-86b9-b565ee031a64",
   "metadata": {},
   "outputs": [
    {
     "name": "stderr",
     "output_type": "stream",
     "text": [
      "07:46 bilby INFO    : Waveform generator initiated with\n",
      "  frequency_domain_source_model: bilby.gw.source.lal_taylorF2_fd\n",
      "  time_domain_source_model: None\n",
      "  parameter_conversion: bilby.gw.conversion.convert_to_lal_binary_black_hole_parameters\n",
      "07:46 bilby INFO    : Injected signal in H1:\n",
      "07:46 bilby INFO    :   optimal SNR = 40.44\n",
      "07:46 bilby INFO    :   matched filter SNR = 40.52+0.24j\n",
      "07:46 bilby INFO    :   mass_1 = 36.0\n",
      "07:46 bilby INFO    :   mass_2 = 29.0\n",
      "07:46 bilby INFO    :   eccentricity = 0.0\n",
      "07:46 bilby INFO    :   a_1 = 0.0\n",
      "07:46 bilby INFO    :   a_2 = 0.0\n",
      "07:46 bilby INFO    :   tilt_1 = 0.0\n",
      "07:46 bilby INFO    :   tilt_2 = 0.0\n",
      "07:46 bilby INFO    :   phi_12 = 0.0\n",
      "07:46 bilby INFO    :   phi_jl = 0.0\n",
      "07:46 bilby INFO    :   luminosity_distance = 600.0\n",
      "07:46 bilby INFO    :   theta_jn = 0.4\n",
      "07:46 bilby INFO    :   psi = 2.659\n",
      "07:46 bilby INFO    :   phase = 1.3\n",
      "07:46 bilby INFO    :   geocent_time = 1246527184.169434\n",
      "07:46 bilby INFO    :   ra = 1.375\n",
      "07:46 bilby INFO    :   dec = -1.2108\n",
      "07:46 bilby INFO    : Injected signal in L1:\n",
      "07:46 bilby INFO    :   optimal SNR = 30.43\n",
      "07:46 bilby INFO    :   matched filter SNR = 30.87+2.16j\n",
      "07:46 bilby INFO    :   mass_1 = 36.0\n",
      "07:46 bilby INFO    :   mass_2 = 29.0\n",
      "07:46 bilby INFO    :   eccentricity = 0.0\n",
      "07:46 bilby INFO    :   a_1 = 0.0\n",
      "07:46 bilby INFO    :   a_2 = 0.0\n",
      "07:46 bilby INFO    :   tilt_1 = 0.0\n",
      "07:46 bilby INFO    :   tilt_2 = 0.0\n",
      "07:46 bilby INFO    :   phi_12 = 0.0\n",
      "07:46 bilby INFO    :   phi_jl = 0.0\n",
      "07:46 bilby INFO    :   luminosity_distance = 600.0\n",
      "07:46 bilby INFO    :   theta_jn = 0.4\n",
      "07:46 bilby INFO    :   psi = 2.659\n",
      "07:46 bilby INFO    :   phase = 1.3\n",
      "07:46 bilby INFO    :   geocent_time = 1246527184.169434\n",
      "07:46 bilby INFO    :   ra = 1.375\n",
      "07:46 bilby INFO    :   dec = -1.2108\n"
     ]
    },
    {
     "data": {
      "text/plain": [
       "[{'plus': array([0.00000000e+00+0.00000000e+00j, 0.00000000e+00+0.00000000e+00j,\n",
       "         0.00000000e+00+0.00000000e+00j, ...,\n",
       "         1.40047610e-25-2.25601589e-25j, 1.40861951e-25-2.25064283e-25j,\n",
       "         1.41674207e-25-2.24524062e-25j]),\n",
       "  'cross': array([ 0.00000000e+00+0.00000000e+00j,  0.00000000e+00+0.00000000e+00j,\n",
       "          0.00000000e+00+0.00000000e+00j, ...,\n",
       "         -2.24841017e-25-1.39575467e-25j, -2.24305522e-25-1.40387062e-25j,\n",
       "         -2.23767122e-25-1.41196580e-25j])},\n",
       " {'plus': array([0.00000000e+00+0.00000000e+00j, 0.00000000e+00+0.00000000e+00j,\n",
       "         0.00000000e+00+0.00000000e+00j, ...,\n",
       "         1.40047610e-25-2.25601589e-25j, 1.40861951e-25-2.25064283e-25j,\n",
       "         1.41674207e-25-2.24524062e-25j]),\n",
       "  'cross': array([ 0.00000000e+00+0.00000000e+00j,  0.00000000e+00+0.00000000e+00j,\n",
       "          0.00000000e+00+0.00000000e+00j, ...,\n",
       "         -2.24841017e-25-1.39575467e-25j, -2.24305522e-25-1.40387062e-25j,\n",
       "         -2.23767122e-25-1.41196580e-25j])}]"
      ]
     },
     "execution_count": 12,
     "metadata": {},
     "output_type": "execute_result"
    }
   ],
   "source": [
    "############# TaylorF2 waveform model ################\n",
    "injection_parameters4 = {'mass_1':36., 'mass_2':29., 'eccentricity':0.0, 'a_1':0., 'a_2':0., 'tilt_1':0.,\n",
    "                         'tilt_2':0., 'phi_12':0., 'phi_jl':0., 'luminosity_distance':600., 'theta_jn':0.4, 'psi':2.659, \n",
    "                         'phase':1.3, 'geocent_time':1246527184.169434, 'ra':1.375, 'dec':-1.2108,}\n",
    "\n",
    "waveform_arguments4 = dict(waveform_approximant='TaylorF2',\n",
    "                          reference_frequency=10., minimum_frequency=10., pn_phase_order=6, pn_amplitude_order=0.)\n",
    "\n",
    "waveform_generator4 = bilby.gw.WaveformGenerator(\n",
    "    duration=duration, sampling_frequency=sampling_frequency,\n",
    "    frequency_domain_source_model=bilby.gw.source.lal_taylorF2_fd,\n",
    "    parameters=injection_parameters4, waveform_arguments=waveform_arguments4)\n",
    "\n",
    "minimum_frequency = 10.0\n",
    "maximum_frequency = 67\n",
    "\n",
    "ifos4 = bilby.gw.detector.InterferometerList(['H1', 'L1'])\n",
    "for ifo in ifos4:\n",
    "    ifo.minimum_frequency = minimum_frequency\n",
    "    ifo.maximum_frequency = maximum_frequency\n",
    "ifos4.set_strain_data_from_power_spectral_densities(\n",
    "    sampling_frequency=sampling_frequency, duration=duration,\n",
    "    start_time=analysis_start)\n",
    "ifos4.inject_signal(waveform_generator=waveform_generator4,\n",
    "                   parameters=injection_parameters4)"
   ]
  },
  {
   "cell_type": "code",
   "execution_count": 13,
   "id": "0753df66-1ccd-4464-91cb-4e33c3b0965a",
   "metadata": {},
   "outputs": [
    {
     "data": {
      "text/plain": [
       "50.612864477091684"
      ]
     },
     "execution_count": 13,
     "metadata": {},
     "output_type": "execute_result"
    }
   ],
   "source": [
    "snrs = [ifo.meta_data[\"optimal_SNR\"] for ifo in ifos4]\n",
    "np.sqrt(np.sum([i ** 2 for i in snrs]))"
   ]
  },
  {
   "cell_type": "code",
   "execution_count": 14,
   "id": "3e38aa8f-5746-4c94-a4ea-fa41b4c3726e",
   "metadata": {},
   "outputs": [
    {
     "name": "stderr",
     "output_type": "stream",
     "text": [
      "07:46 bilby INFO    : Waveform generator initiated with\n",
      "  frequency_domain_source_model: bilby.gw.source.lal_binary_black_hole\n",
      "  time_domain_source_model: None\n",
      "  parameter_conversion: bilby.gw.conversion.convert_to_lal_binary_black_hole_parameters\n",
      "07:46 bilby INFO    : Injected signal in H1:\n",
      "07:46 bilby INFO    :   optimal SNR = 33.86\n",
      "07:46 bilby INFO    :   matched filter SNR = 32.67-0.13j\n",
      "07:46 bilby INFO    :   mass_1 = 36.0\n",
      "07:46 bilby INFO    :   mass_2 = 29.0\n",
      "07:46 bilby INFO    :   eccentricity = 0.0\n",
      "07:46 bilby INFO    :   a_1 = 0.0\n",
      "07:46 bilby INFO    :   a_2 = 0.0\n",
      "07:46 bilby INFO    :   tilt_1 = 0.0\n",
      "07:46 bilby INFO    :   tilt_2 = 0.0\n",
      "07:46 bilby INFO    :   phi_12 = 0.0\n",
      "07:46 bilby INFO    :   phi_jl = 0.0\n",
      "07:46 bilby INFO    :   luminosity_distance = 600.0\n",
      "07:46 bilby INFO    :   theta_jn = 0.4\n",
      "07:46 bilby INFO    :   psi = 2.659\n",
      "07:46 bilby INFO    :   phase = 1.3\n",
      "07:46 bilby INFO    :   geocent_time = 1246527184.169434\n",
      "07:46 bilby INFO    :   ra = 1.375\n",
      "07:46 bilby INFO    :   dec = -1.2108\n",
      "07:46 bilby INFO    : Injected signal in L1:\n",
      "07:46 bilby INFO    :   optimal SNR = 25.48\n",
      "07:46 bilby INFO    :   matched filter SNR = 24.61+1.51j\n",
      "07:46 bilby INFO    :   mass_1 = 36.0\n",
      "07:46 bilby INFO    :   mass_2 = 29.0\n",
      "07:46 bilby INFO    :   eccentricity = 0.0\n",
      "07:46 bilby INFO    :   a_1 = 0.0\n",
      "07:46 bilby INFO    :   a_2 = 0.0\n",
      "07:46 bilby INFO    :   tilt_1 = 0.0\n",
      "07:46 bilby INFO    :   tilt_2 = 0.0\n",
      "07:46 bilby INFO    :   phi_12 = 0.0\n",
      "07:46 bilby INFO    :   phi_jl = 0.0\n",
      "07:46 bilby INFO    :   luminosity_distance = 600.0\n",
      "07:46 bilby INFO    :   theta_jn = 0.4\n",
      "07:46 bilby INFO    :   psi = 2.659\n",
      "07:46 bilby INFO    :   phase = 1.3\n",
      "07:46 bilby INFO    :   geocent_time = 1246527184.169434\n",
      "07:46 bilby INFO    :   ra = 1.375\n",
      "07:46 bilby INFO    :   dec = -1.2108\n"
     ]
    },
    {
     "data": {
      "text/plain": [
       "[{'plus': array([0.+0.j, 0.+0.j, 0.+0.j, ..., 0.+0.j, 0.+0.j, 0.+0.j]),\n",
       "  'cross': array([0.+0.j, 0.+0.j, 0.+0.j, ..., 0.+0.j, 0.+0.j, 0.+0.j])},\n",
       " {'plus': array([0.+0.j, 0.+0.j, 0.+0.j, ..., 0.+0.j, 0.+0.j, 0.+0.j]),\n",
       "  'cross': array([0.+0.j, 0.+0.j, 0.+0.j, ..., 0.+0.j, 0.+0.j, 0.+0.j])}]"
      ]
     },
     "execution_count": 14,
     "metadata": {},
     "output_type": "execute_result"
    }
   ],
   "source": [
    "############# IMRPhenomXPHM waveform model ################\n",
    "injection_parameters5 = {'mass_1':36., 'mass_2':29., 'eccentricity':0.0, 'a_1':0., 'a_2':0., 'tilt_1':0.,\n",
    "                         'tilt_2':0., 'phi_12':0., 'phi_jl':0., 'luminosity_distance':600., 'theta_jn':0.4, 'psi':2.659, \n",
    "                         'phase':1.3, 'geocent_time':1246527184.169434, 'ra':1.375, 'dec':-1.2108,}\n",
    "\n",
    "waveform_arguments5 = dict(waveform_approximant='IMRPhenomXPHM',\n",
    "                          reference_frequency=10., minimum_frequency=10., pn_phase_order=6, pn_amplitude_order=0.)\n",
    "\n",
    "waveform_generator5 = bilby.gw.WaveformGenerator(\n",
    "    duration=duration, sampling_frequency=sampling_frequency,\n",
    "    frequency_domain_source_model=bilby.gw.source.lal_binary_black_hole,\n",
    "    parameters=injection_parameters4, waveform_arguments=waveform_arguments5)\n",
    "\n",
    "minimum_frequency = 10.0\n",
    "maximum_frequency = 67\n",
    "\n",
    "ifos5 = bilby.gw.detector.InterferometerList(['H1', 'L1'])\n",
    "for ifo in ifos5:\n",
    "    ifo.minimum_frequency = minimum_frequency\n",
    "    ifo.maximum_frequency = maximum_frequency\n",
    "ifos5.set_strain_data_from_power_spectral_densities(\n",
    "    sampling_frequency=sampling_frequency, duration=duration,\n",
    "    start_time=analysis_start)\n",
    "ifos5.inject_signal(waveform_generator=waveform_generator5,\n",
    "                   parameters=injection_parameters5)"
   ]
  },
  {
   "cell_type": "code",
   "execution_count": 15,
   "id": "03e404a4-386e-434b-9d99-b49550406c12",
   "metadata": {},
   "outputs": [
    {
     "data": {
      "text/plain": [
       "42.374413896892825"
      ]
     },
     "execution_count": 15,
     "metadata": {},
     "output_type": "execute_result"
    }
   ],
   "source": [
    "snrs = [ifo.meta_data[\"optimal_SNR\"] for ifo in ifos5]\n",
    "np.sqrt(np.sum([i ** 2 for i in snrs]))"
   ]
  },
  {
   "cell_type": "markdown",
   "id": "6c9667e4-f83e-4469-a94e-c69bb4549eb8",
   "metadata": {},
   "source": [
    "# Amplitude evolution comparision plot"
   ]
  },
  {
   "cell_type": "code",
   "execution_count": 16,
   "id": "219c9fb8-ff49-4a10-8346-f5dbf75ee186",
   "metadata": {},
   "outputs": [
    {
     "name": "stderr",
     "output_type": "stream",
     "text": [
      "07:46 bilby INFO    : Injected signal in H1:\n",
      "07:46 bilby INFO    :   optimal SNR = 40.44\n",
      "07:46 bilby INFO    :   matched filter SNR = 79.82+1.19j\n",
      "07:46 bilby INFO    :   mass_1 = 36.0\n",
      "07:46 bilby INFO    :   mass_2 = 29.0\n",
      "07:46 bilby INFO    :   eccentricity = 0.0\n",
      "07:46 bilby INFO    :   a_1 = 0.0\n",
      "07:46 bilby INFO    :   a_2 = 0.0\n",
      "07:46 bilby INFO    :   tilt_1 = 0.0\n",
      "07:46 bilby INFO    :   tilt_2 = 0.0\n",
      "07:46 bilby INFO    :   phi_12 = 0.0\n",
      "07:46 bilby INFO    :   phi_jl = 0.0\n",
      "07:46 bilby INFO    :   luminosity_distance = 600.0\n",
      "07:46 bilby INFO    :   theta_jn = 0.4\n",
      "07:46 bilby INFO    :   psi = 2.659\n",
      "07:46 bilby INFO    :   phase = 1.3\n",
      "07:46 bilby INFO    :   geocent_time = 1246527184.169434\n",
      "07:46 bilby INFO    :   ra = 1.375\n",
      "07:46 bilby INFO    :   dec = -1.2108\n",
      "07:46 bilby INFO    : Injected signal in L1:\n",
      "07:46 bilby INFO    :   optimal SNR = 30.43\n",
      "07:46 bilby INFO    :   matched filter SNR = 60.91+1.09j\n",
      "07:46 bilby INFO    :   mass_1 = 36.0\n",
      "07:46 bilby INFO    :   mass_2 = 29.0\n",
      "07:46 bilby INFO    :   eccentricity = 0.0\n",
      "07:46 bilby INFO    :   a_1 = 0.0\n",
      "07:46 bilby INFO    :   a_2 = 0.0\n",
      "07:46 bilby INFO    :   tilt_1 = 0.0\n",
      "07:46 bilby INFO    :   tilt_2 = 0.0\n",
      "07:46 bilby INFO    :   phi_12 = 0.0\n",
      "07:46 bilby INFO    :   phi_jl = 0.0\n",
      "07:46 bilby INFO    :   luminosity_distance = 600.0\n",
      "07:46 bilby INFO    :   theta_jn = 0.4\n",
      "07:46 bilby INFO    :   psi = 2.659\n",
      "07:46 bilby INFO    :   phase = 1.3\n",
      "07:46 bilby INFO    :   geocent_time = 1246527184.169434\n",
      "07:46 bilby INFO    :   ra = 1.375\n",
      "07:46 bilby INFO    :   dec = -1.2108\n",
      "07:46 bilby INFO    : Injected signal in H1:\n",
      "07:46 bilby INFO    :   optimal SNR = 36.99\n",
      "07:46 bilby INFO    :   matched filter SNR = 74.05+0.27j\n",
      "07:46 bilby INFO    :   mass_1 = 36.0\n",
      "07:46 bilby INFO    :   mass_2 = 29.0\n",
      "07:46 bilby INFO    :   eccentricity = 0.0\n",
      "07:46 bilby INFO    :   a_1 = 0.0\n",
      "07:46 bilby INFO    :   a_2 = 0.0\n",
      "07:46 bilby INFO    :   tilt_1 = 0.0\n",
      "07:46 bilby INFO    :   tilt_2 = 0.0\n",
      "07:46 bilby INFO    :   phi_12 = 0.0\n",
      "07:46 bilby INFO    :   phi_jl = 0.0\n",
      "07:46 bilby INFO    :   luminosity_distance = 600.0\n",
      "07:46 bilby INFO    :   theta_jn = 0.4\n",
      "07:46 bilby INFO    :   psi = 2.659\n",
      "07:46 bilby INFO    :   phase = 1.3\n",
      "07:46 bilby INFO    :   geocent_time = 1246527184.169434\n",
      "07:46 bilby INFO    :   ra = 1.375\n",
      "07:46 bilby INFO    :   dec = -1.2108\n",
      "07:46 bilby INFO    : Injected signal in L1:\n",
      "07:46 bilby INFO    :   optimal SNR = 27.84\n",
      "07:46 bilby INFO    :   matched filter SNR = 54.23+0.24j\n",
      "07:46 bilby INFO    :   mass_1 = 36.0\n",
      "07:46 bilby INFO    :   mass_2 = 29.0\n",
      "07:46 bilby INFO    :   eccentricity = 0.0\n",
      "07:46 bilby INFO    :   a_1 = 0.0\n",
      "07:46 bilby INFO    :   a_2 = 0.0\n",
      "07:46 bilby INFO    :   tilt_1 = 0.0\n",
      "07:46 bilby INFO    :   tilt_2 = 0.0\n",
      "07:46 bilby INFO    :   phi_12 = 0.0\n",
      "07:46 bilby INFO    :   phi_jl = 0.0\n",
      "07:46 bilby INFO    :   luminosity_distance = 600.0\n",
      "07:46 bilby INFO    :   theta_jn = 0.4\n",
      "07:46 bilby INFO    :   psi = 2.659\n",
      "07:46 bilby INFO    :   phase = 1.3\n",
      "07:46 bilby INFO    :   geocent_time = 1246527184.169434\n",
      "07:46 bilby INFO    :   ra = 1.375\n",
      "07:46 bilby INFO    :   dec = -1.2108\n",
      "07:46 bilby INFO    : Injected signal in H1:\n",
      "07:46 bilby INFO    :   optimal SNR = 40.44\n",
      "07:46 bilby INFO    :   matched filter SNR = 80.75+0.69j\n",
      "07:46 bilby INFO    :   mass_1 = 36.0\n",
      "07:46 bilby INFO    :   mass_2 = 29.0\n",
      "07:46 bilby INFO    :   eccentricity = 0.0\n",
      "07:46 bilby INFO    :   a_1 = 0.0\n",
      "07:46 bilby INFO    :   a_2 = 0.0\n",
      "07:46 bilby INFO    :   tilt_1 = 0.0\n",
      "07:46 bilby INFO    :   tilt_2 = 0.0\n",
      "07:46 bilby INFO    :   phi_12 = 0.0\n",
      "07:46 bilby INFO    :   phi_jl = 0.0\n",
      "07:46 bilby INFO    :   luminosity_distance = 600.0\n",
      "07:46 bilby INFO    :   theta_jn = 0.4\n",
      "07:46 bilby INFO    :   psi = 2.659\n",
      "07:46 bilby INFO    :   phase = 1.3\n",
      "07:46 bilby INFO    :   geocent_time = 1246527184.169434\n",
      "07:46 bilby INFO    :   ra = 1.375\n",
      "07:46 bilby INFO    :   dec = -1.2108\n",
      "07:46 bilby INFO    : Injected signal in L1:\n",
      "07:46 bilby INFO    :   optimal SNR = 30.43\n",
      "07:46 bilby INFO    :   matched filter SNR = 61.22+0.52j\n",
      "07:46 bilby INFO    :   mass_1 = 36.0\n",
      "07:46 bilby INFO    :   mass_2 = 29.0\n",
      "07:46 bilby INFO    :   eccentricity = 0.0\n",
      "07:46 bilby INFO    :   a_1 = 0.0\n",
      "07:46 bilby INFO    :   a_2 = 0.0\n",
      "07:46 bilby INFO    :   tilt_1 = 0.0\n",
      "07:46 bilby INFO    :   tilt_2 = 0.0\n",
      "07:46 bilby INFO    :   phi_12 = 0.0\n",
      "07:46 bilby INFO    :   phi_jl = 0.0\n",
      "07:46 bilby INFO    :   luminosity_distance = 600.0\n",
      "07:46 bilby INFO    :   theta_jn = 0.4\n",
      "07:46 bilby INFO    :   psi = 2.659\n",
      "07:46 bilby INFO    :   phase = 1.3\n",
      "07:46 bilby INFO    :   geocent_time = 1246527184.169434\n",
      "07:46 bilby INFO    :   ra = 1.375\n",
      "07:46 bilby INFO    :   dec = -1.2108\n",
      "07:46 bilby INFO    : Injected signal in H1:\n",
      "07:46 bilby INFO    :   optimal SNR = 40.44\n",
      "07:46 bilby INFO    :   matched filter SNR = 80.96+0.24j\n",
      "07:46 bilby INFO    :   mass_1 = 36.0\n",
      "07:46 bilby INFO    :   mass_2 = 29.0\n",
      "07:46 bilby INFO    :   eccentricity = 0.0\n",
      "07:46 bilby INFO    :   a_1 = 0.0\n",
      "07:46 bilby INFO    :   a_2 = 0.0\n",
      "07:46 bilby INFO    :   tilt_1 = 0.0\n",
      "07:46 bilby INFO    :   tilt_2 = 0.0\n",
      "07:46 bilby INFO    :   phi_12 = 0.0\n",
      "07:46 bilby INFO    :   phi_jl = 0.0\n",
      "07:46 bilby INFO    :   luminosity_distance = 600.0\n",
      "07:46 bilby INFO    :   theta_jn = 0.4\n",
      "07:46 bilby INFO    :   psi = 2.659\n",
      "07:46 bilby INFO    :   phase = 1.3\n",
      "07:46 bilby INFO    :   geocent_time = 1246527184.169434\n",
      "07:46 bilby INFO    :   ra = 1.375\n",
      "07:46 bilby INFO    :   dec = -1.2108\n",
      "07:46 bilby INFO    : Injected signal in L1:\n",
      "07:46 bilby INFO    :   optimal SNR = 30.43\n",
      "07:46 bilby INFO    :   matched filter SNR = 61.30+2.16j\n",
      "07:46 bilby INFO    :   mass_1 = 36.0\n",
      "07:46 bilby INFO    :   mass_2 = 29.0\n",
      "07:46 bilby INFO    :   eccentricity = 0.0\n",
      "07:46 bilby INFO    :   a_1 = 0.0\n",
      "07:46 bilby INFO    :   a_2 = 0.0\n",
      "07:46 bilby INFO    :   tilt_1 = 0.0\n",
      "07:46 bilby INFO    :   tilt_2 = 0.0\n",
      "07:46 bilby INFO    :   phi_12 = 0.0\n",
      "07:46 bilby INFO    :   phi_jl = 0.0\n",
      "07:46 bilby INFO    :   luminosity_distance = 600.0\n",
      "07:46 bilby INFO    :   theta_jn = 0.4\n",
      "07:46 bilby INFO    :   psi = 2.659\n",
      "07:46 bilby INFO    :   phase = 1.3\n",
      "07:46 bilby INFO    :   geocent_time = 1246527184.169434\n",
      "07:46 bilby INFO    :   ra = 1.375\n",
      "07:46 bilby INFO    :   dec = -1.2108\n",
      "07:46 bilby INFO    : Injected signal in H1:\n",
      "07:46 bilby INFO    :   optimal SNR = 33.86\n",
      "07:46 bilby INFO    :   matched filter SNR = 66.53-0.13j\n",
      "07:46 bilby INFO    :   mass_1 = 36.0\n",
      "07:46 bilby INFO    :   mass_2 = 29.0\n",
      "07:46 bilby INFO    :   eccentricity = 0.0\n",
      "07:46 bilby INFO    :   a_1 = 0.0\n",
      "07:46 bilby INFO    :   a_2 = 0.0\n",
      "07:46 bilby INFO    :   tilt_1 = 0.0\n",
      "07:46 bilby INFO    :   tilt_2 = 0.0\n",
      "07:46 bilby INFO    :   phi_12 = 0.0\n",
      "07:46 bilby INFO    :   phi_jl = 0.0\n",
      "07:46 bilby INFO    :   luminosity_distance = 600.0\n",
      "07:46 bilby INFO    :   theta_jn = 0.4\n",
      "07:46 bilby INFO    :   psi = 2.659\n",
      "07:46 bilby INFO    :   phase = 1.3\n",
      "07:46 bilby INFO    :   geocent_time = 1246527184.169434\n",
      "07:46 bilby INFO    :   ra = 1.375\n",
      "07:46 bilby INFO    :   dec = -1.2108\n",
      "07:46 bilby INFO    : Injected signal in L1:\n",
      "07:46 bilby INFO    :   optimal SNR = 25.48\n",
      "07:46 bilby INFO    :   matched filter SNR = 50.09+1.51j\n",
      "07:46 bilby INFO    :   mass_1 = 36.0\n",
      "07:46 bilby INFO    :   mass_2 = 29.0\n",
      "07:46 bilby INFO    :   eccentricity = 0.0\n",
      "07:46 bilby INFO    :   a_1 = 0.0\n",
      "07:46 bilby INFO    :   a_2 = 0.0\n",
      "07:46 bilby INFO    :   tilt_1 = 0.0\n",
      "07:46 bilby INFO    :   tilt_2 = 0.0\n",
      "07:46 bilby INFO    :   phi_12 = 0.0\n",
      "07:46 bilby INFO    :   phi_jl = 0.0\n",
      "07:46 bilby INFO    :   luminosity_distance = 600.0\n",
      "07:46 bilby INFO    :   theta_jn = 0.4\n",
      "07:46 bilby INFO    :   psi = 2.659\n",
      "07:46 bilby INFO    :   phase = 1.3\n",
      "07:46 bilby INFO    :   geocent_time = 1246527184.169434\n",
      "07:46 bilby INFO    :   ra = 1.375\n",
      "07:46 bilby INFO    :   dec = -1.2108\n"
     ]
    },
    {
     "data": {
      "image/png": "[encoded data removed]",
      "text/plain": [
       "<Figure size 640x480 with 1 Axes>"
      ]
     },
     "metadata": {},
     "output_type": "display_data"
    }
   ],
   "source": [
    "#to plot the frequency domain  \n",
    "############# PerAdvFDLeO waveform model ################\n",
    "injection = ifos.inject_signal(waveform_generator=waveform_generator,\n",
    "                   parameters=injection_parameters)\n",
    "H1 = ifos[0]\n",
    "H1_injection = injection[0]\n",
    "idxs = H1.strain_data.frequency_mask  \n",
    "\n",
    "############# PerAdvFD1PNAmpLeO ################\n",
    "injection2 = ifos2.inject_signal(waveform_generator=waveform_generator2,\n",
    "                   parameters=injection_parameters2)\n",
    "H12 = ifos2[0]\n",
    "H1_injection2 = injection2[0]\n",
    "idxs2 = H12.strain_data.frequency_mask\n",
    "\n",
    "############# TaylorF2Ecc waveform model ################\n",
    "injection3 = ifos3.inject_signal(waveform_generator=waveform_generator3,\n",
    "                   parameters=injection_parameters3)\n",
    "H13 = ifos3[0]\n",
    "H1_injection3 = injection3[0]\n",
    "idxs3 = H13.strain_data.frequency_mask\n",
    "\n",
    "############# TaylorF2 waveform model ################\n",
    "injection4 = ifos4.inject_signal(waveform_generator=waveform_generator4,\n",
    "                   parameters=injection_parameters4)\n",
    "H14 = ifos4[0]\n",
    "H1_injection4 = injection4[0]\n",
    "idxs4 = H14.strain_data.frequency_mask\n",
    "\n",
    "############# IMRPhenomXPHM waveform model ################\n",
    "injection5 = ifos5.inject_signal(waveform_generator=waveform_generator5,\n",
    "                   parameters=injection_parameters5)\n",
    "H15 = ifos5[0]\n",
    "H1_injection5 = injection5[0]\n",
    "idxs5 = H15.strain_data.frequency_mask\n",
    "\n",
    "############# PerAdvFDLeO waveform model ################\n",
    "fig, ax = plt.subplots()\n",
    "\n",
    "'''ax.loglog(H1.strain_data.frequency_array[idxs],\n",
    "          np.abs(H1.strain_data.frequency_domain_strain[idxs]),\n",
    "          label=\"data\")'''\n",
    "ax.loglog(H1.frequency_array[idxs],\n",
    "          H1.amplitude_spectral_density_array[idxs],\n",
    "          label=\"ASD O3\")\n",
    "\n",
    "ax.loglog(H1.frequency_array[idxs],\n",
    "          np.abs(H1_injection[\"plus\"][idxs]),\n",
    "          label=\"PerAdvFD0PN\")\n",
    "\n",
    "############# PerAdvFD1PNAmpLeO waveform model ################\n",
    "ax.loglog(H12.frequency_array[idxs2],\n",
    "          np.abs(H1_injection2[\"plus\"][idxs2]),\n",
    "          label=\"PerAdvFD1PN\")\n",
    "\n",
    "############# TaylorF2Ecc waveform model ################\n",
    "'''ax.loglog(H13.frequency_array[idxs3],\n",
    "          np.abs(H1_injection3[\"plus\"][idxs3]),\n",
    "          label=\"TaylorF2Ecc\")'''\n",
    "\n",
    "############# TaylorF2 waveform model ################\n",
    "ax.loglog(H14.frequency_array[idxs4],\n",
    "          np.abs(H1_injection4[\"plus\"][idxs4]),\n",
    "          label=\"TaylorF2\")\n",
    "\n",
    "############# IMRPhenomXPHM waveform model ################\n",
    "ax.loglog(H15.frequency_array[idxs5],\n",
    "          np.abs(H1_injection5[\"plus\"][idxs5]),\n",
    "          label=\"XPHM\")\n",
    "\n",
    "#############################\n",
    "ax.set_xlim(10.,60.)\n",
    "ax.set_ylim(1e-23,0.5e-21)\n",
    "\n",
    "plt.rcParams['figure.figsize'] = [15, 10]\n",
    "ax.set_xlabel(\"Frequency [Hz]\")\n",
    "ax.set_ylabel(\"Strain [strain/$\\sqrt{Hz}$]\")\n",
    "ax.legend()\n",
    "plt.savefig(\"eccn.pdf\")\n",
    "plt.show()"
   ]
  },
  {
   "cell_type": "markdown",
   "id": "41a45dfc-3b3f-4f7c-90e3-f3dd5fc87122",
   "metadata": {},
   "source": [
    "# phase evolution comparision plot"
   ]
  },
  {
   "cell_type": "code",
   "execution_count": 17,
   "id": "99fd4b95-4e56-4d39-bb62-493304ffc982",
   "metadata": {},
   "outputs": [
    {
     "data": {
      "image/png": "[encoded data removed]",
      "text/plain": [
       "<Figure size 1500x1000 with 1 Axes>"
      ]
     },
     "metadata": {},
     "output_type": "display_data"
    }
   ],
   "source": [
    "############# my waveform model ################\n",
    "fig, ax = plt.subplots()\n",
    "\n",
    "ax.loglog(H1.frequency_array[idxs],\n",
    "          np.real(H1_injection[\"plus\"][idxs]),\n",
    "          label=\"PerAdvFD\")\n",
    "\n",
    "############# PerAdvFD1PNAmp waveform model ################\n",
    "ax.loglog(H12.frequency_array[idxs2],\n",
    "          np.real(H1_injection2[\"plus\"][idxs2]),\n",
    "          label=\"PerAdvFD1PNAmp\")\n",
    "\n",
    "############# TaylorF2Ecc waveform model ################\n",
    "ax.loglog(H13.frequency_array[idxs3],\n",
    "          np.real(H1_injection3[\"plus\"][idxs3]),\n",
    "          label=\"TaylorF2Ecc\")\n",
    "\n",
    "############# TaylorF2 waveform model ################\n",
    "ax.loglog(H14.frequency_array[idxs4],\n",
    "          np.real(H1_injection4[\"plus\"][idxs4]),\n",
    "          label=\"TaylorF2\")\n",
    "\n",
    "#############################\n",
    "ax.set_xlim(20.,30.)\n",
    "ax.set_ylim(1e-23,5e-23)\n",
    "\n",
    "\n",
    "ax.set_xlabel(\"Frequency [Hz]\")\n",
    "ax.set_ylabel(\"Real[h+] [strain/$\\sqrt{Hz}$]\")\n",
    "ax.legend()\n",
    "plt.rcParams['figure.figsize'] = [20, 10]\n",
    "plt.show()"
   ]
  },
  {
   "cell_type": "markdown",
   "id": "e4ce8186-b92d-4f8b-9aad-153bc8a05be7",
   "metadata": {},
   "source": [
    "# match test\n",
    "* PerAdvFD1PNAmpLeO Vs TaylorF2Ecc"
   ]
  },
  {
   "cell_type": "code",
   "execution_count": 18,
   "id": "c6295c55-88a4-421b-832b-01e3199f8e1e",
   "metadata": {},
   "outputs": [],
   "source": [
    "from pycbc.filter.matchedfilter import match\n",
    "from pycbc.types.frequencyseries import FrequencySeries"
   ]
  },
  {
   "cell_type": "code",
   "execution_count": 19,
   "id": "5e484ad8-1677-4169-a59c-d00d2a857423",
   "metadata": {},
   "outputs": [],
   "source": [
    "injection_parameters2 = {'mass_1':36., 'mass_2':29., 'eccentricity':0.1, 'a_1':0., 'a_2':0., 'tilt_1':0.,\n",
    "                         'tilt_2':0., 'phi_12':0., 'phi_jl':0., 'luminosity_distance':600., 'theta_jn':0.0, 'psi':0., \n",
    "                         'phase':0., 'geocent_time':1246527184.169434, 'ra':0., 'dec':0.,}"
   ]
  },
  {
   "cell_type": "code",
   "execution_count": 20,
   "id": "13111c98-a956-4125-8971-52212051e7bd",
   "metadata": {},
   "outputs": [],
   "source": [
    "# waveform_generator1 for PerAdvFDLeO\n",
    "# waveform_generator2 for PerAdvFD1PNAmpLeO\n",
    "# waveform_generator3 for TaylorF2Ecc\n",
    "# waveform_generator for TaylorF2\n",
    "polas1 = waveform_generator2.frequency_domain_strain(parameters = injection_parameters2)\n",
    "polas2 = waveform_generator3.frequency_domain_strain(parameters = injection_parameters2)\n",
    "arr1 = FrequencySeries(polas1['plus'], delta_f=1/duration)\n",
    "arr2 = FrequencySeries(polas2['plus'], delta_f=1/duration)\n",
    "psd_ = FrequencySeries(H1.power_spectral_density_array, delta_f=1/duration)"
   ]
  },
  {
   "cell_type": "code",
   "execution_count": 21,
   "id": "61d9beb6-0d3b-4a90-95c8-09add7e05b47",
   "metadata": {},
   "outputs": [
    {
     "name": "stdout",
     "output_type": "stream",
     "text": [
      "match= 0.9961291873326623\n"
     ]
    }
   ],
   "source": [
    "print('match=',match(arr1, arr2, psd=psd_, \\\n",
    "      low_frequency_cutoff=10, high_frequency_cutoff=67)[0])"
   ]
  },
  {
   "cell_type": "code",
   "execution_count": null,
   "id": "d25284db-e3af-48e2-8b76-c725e8f78be5",
   "metadata": {},
   "outputs": [],
   "source": []
  }
 ],
 "metadata": {
  "kernelspec": {
   "display_name": "Python 3 (ipykernel)",
   "language": "python",
   "name": "python3"
  },
  "language_info": {
   "codemirror_mode": {
    "name": "ipython",
    "version": 3
   },
   "file_extension": ".py",
   "mimetype": "text/x-python",
   "name": "python",
   "nbconvert_exporter": "python",
   "pygments_lexer": "ipython3",
   "version": "3.10.6"
  }
 },
 "nbformat": 4,
 "nbformat_minor": 5
}
