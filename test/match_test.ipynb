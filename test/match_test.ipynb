{
 "cells": [
  {
   "cell_type": "markdown",
   "id": "043eaab5-3b09-49e3-9b55-8c63ec2e42dc",
   "metadata": {},
   "source": [
    "# Match test between two waveform models"
   ]
  },
  {
   "cell_type": "code",
   "execution_count": 1,
   "id": "d08383e6-1659-4b34-8b4e-dc95bc889c14",
   "metadata": {},
   "outputs": [],
   "source": [
    "import numpy as np\n",
    "import bilby\n",
    "import matplotlib.pyplot as plt\n",
    "from pycbc.filter.matchedfilter import match\n",
    "from pycbc.types.frequencyseries import FrequencySeries\n",
    "%matplotlib inline\n",
    "\n",
    "C = 299792458.\n",
    "G = 6.67408*1e-11\n",
    "Mo = 1.989*1e30\n",
    "Mpc = 3.086*1e22"
   ]
  },
  {
   "cell_type": "code",
   "execution_count": 75,
   "id": "e2620c7e-a527-4dab-b3f2-9ef36792cd65",
   "metadata": {},
   "outputs": [
    {
     "name": "stderr",
     "output_type": "stream",
     "text": [
      "08:49 bilby INFO    : Waveform generator initiated with\n",
      "  frequency_domain_source_model: bilby.gw.source.lal_PerAdvFDLeO\n",
      "  time_domain_source_model: None\n",
      "  parameter_conversion: bilby.gw.conversion.convert_to_lal_binary_black_hole_parameters\n",
      "08:49 bilby INFO    : Waveform generator initiated with\n",
      "  frequency_domain_source_model: bilby.gw.source.lal_taylorF2_fd\n",
      "  time_domain_source_model: None\n",
      "  parameter_conversion: bilby.gw.conversion.convert_to_lal_binary_black_hole_parameters\n"
     ]
    }
   ],
   "source": [
    "############# defining waveform arguments ################\n",
    "injection_parameters = {'mass_1':36., 'mass_2':29., 'eccentricity':0.0, 'a_1':0., 'a_2':0., 'tilt_1':0.,\n",
    "                         'tilt_2':0., 'phi_12':0., 'phi_jl':0., 'luminosity_distance':600., 'theta_jn':0.4, 'psi':2.659, \n",
    "                         'phase':1.3, 'geocent_time':1246527184.169434, 'ra':1.375, 'dec':-1.2108,}\n",
    "\n",
    "duration = 16.\n",
    "reference_frequency= 10.\n",
    "minimum_frequency= 10.\n",
    "sampling_frequency = 2048.\n",
    "waveform_arguments1 = dict(waveform_approximant='PerAdvFDLeO',\n",
    "                          reference_frequency=reference_frequency, minimum_frequency=minimum_frequency)\n",
    "\n",
    "waveform_generator1 = bilby.gw.WaveformGenerator(\n",
    "    duration=duration, sampling_frequency=sampling_frequency,\n",
    "    frequency_domain_source_model=bilby.gw.source.lal_PerAdvFDLeO,\n",
    "    parameters=injection_parameters, waveform_arguments=waveform_arguments1)\n",
    "\n",
    "waveform_arguments2 = dict(waveform_approximant='TaylorF2',\n",
    "                          reference_frequency=reference_frequency, minimum_frequency=minimum_frequency, \\\n",
    "                           pn_phase_order=6, pn_amplitude_order=0.)\n",
    "\n",
    "waveform_generator2 = bilby.gw.WaveformGenerator(\n",
    "    duration=duration, sampling_frequency=sampling_frequency,\n",
    "    frequency_domain_source_model=bilby.gw.source.lal_taylorF2_fd,\n",
    "    parameters=injection_parameters, waveform_arguments=waveform_arguments2)"
   ]
  },
  {
   "cell_type": "code",
   "execution_count": 81,
   "id": "6c45c01f-d232-4253-9d27-61a910abe918",
   "metadata": {},
   "outputs": [],
   "source": [
    "def match_calculator(waveform_generator1, waveform_arguments2, f_min=10., detector = 'L1', sampling_frequency=2048., \\\n",
    "                     injection_parameters={'mass_1':36., 'mass_2':29., 'eccentricity':0.0, 'a_1':0., 'a_2':0., 'tilt_1':0., \\\n",
    "                                           'tilt_2':0., 'phi_12':0., 'phi_jl':0., 'luminosity_distance':600., 'theta_jn':0.4, \\\n",
    "                                           'psi':2.659, 'phase':1.3, 'geocent_time':1246527184.169434, 'ra':1.375, 'dec':-1.2108,}):\n",
    "\n",
    "    '''\n",
    "    Return\n",
    "    match : np.array([(match_for_hplus,shift),(match_for_hcross,shift)])\n",
    "    '''\n",
    "    \n",
    "    C = 299792458.\n",
    "    G = 6.67408*1e-11\n",
    "    Mo = 1.989*1e30\n",
    "    m1 = injection_parameters['mass_1']\n",
    "    m2 = injection_parameters['mass_2']\n",
    "    mtot = m1 + m2\n",
    "    f_max= (C**3)/( G*(mtot)*Mo*np.pi*6**(3/2) ) #last stable orbit frequency\n",
    "    duration = int(bilby.gw.utils.calculate_time_to_merger(f_min,m1,m2)+2) # data length in time domain, will decide the frequency bin size\n",
    "    \n",
    "    # changing some of the parameters of waveform generator accordingly\n",
    "    waveform_generator1.duration = duration\n",
    "    waveform_generator1.sampling_frequency = sampling_frequency\n",
    "    waveform_generator1.parameters = injection_parameters\n",
    "    waveform_generator2.duration = duration\n",
    "    waveform_generator2.sampling_frequency = sampling_frequency\n",
    "    waveform_generator2.parameters = injection_parameters\n",
    "    \n",
    "    # calling the detector and its data\n",
    "    ifos4 = bilby.gw.detector.InterferometerList([detector,])\n",
    "    for ifo in ifos4:\n",
    "        ifo.minimum_frequency = f_min\n",
    "        ifo.maximum_frequency = f_max\n",
    "    ifos4.set_strain_data_from_power_spectral_densities(\n",
    "        sampling_frequency=sampling_frequency, duration=duration,\n",
    "        start_time=injection_parameters['geocent_time']-duration)\n",
    "    \n",
    "    # plus and cross frequency_domain_strain\n",
    "    polas1 = waveform_generator1.frequency_domain_strain(parameters = injection_parameters)\n",
    "    polas2 = waveform_generator2.frequency_domain_strain(parameters = injection_parameters)\n",
    "    psd_ = FrequencySeries(ifos4[0].power_spectral_density_array, delta_f=1/duration)\n",
    "    \n",
    "    # plus polarization\n",
    "    arr1 = FrequencySeries(polas1['plus'], delta_f=1/duration)\n",
    "    arr2 = FrequencySeries(polas2['plus'], delta_f=1/duration)\n",
    "    # cros polarization\n",
    "    arr3 = FrequencySeries(polas1['cross'], delta_f=1/duration)\n",
    "    arr4 = FrequencySeries(polas2['cross'], delta_f=1/duration)\n",
    "    \n",
    "    match_p = match(arr1, arr2, psd=psd_, low_frequency_cutoff=f_min, high_frequency_cutoff=f_max)\n",
    "    match_c = match(arr3, arr4, psd=psd_, low_frequency_cutoff=f_min, high_frequency_cutoff=f_max)\n",
    "    \n",
    "    match_net = (match_p[0]+match_c[0])/2 # average\n",
    "    \n",
    "    return({'plus':match_p,'cross':match_c,'net':match_net})"
   ]
  },
  {
   "cell_type": "markdown",
   "id": "6d858ae2-2be1-4a76-94a4-d398eff9a5cb",
   "metadata": {},
   "source": [
    "### circular case"
   ]
  },
  {
   "cell_type": "code",
   "execution_count": 82,
   "id": "8a3af6ac-bc4b-4ca3-98f2-32450933c93c",
   "metadata": {},
   "outputs": [
    {
     "name": "stdout",
     "output_type": "stream",
     "text": [
      "match =  0.9999998435635388\n"
     ]
    }
   ],
   "source": [
    "# for circular case\n",
    "match_ = match_calculator(waveform_generator1, waveform_arguments2)\n",
    "print('match = ', match_['net'])"
   ]
  },
  {
   "cell_type": "markdown",
   "id": "d275ee6a-df07-4fe0-bada-11acc4feea44",
   "metadata": {},
   "source": [
    "### eccentric case "
   ]
  },
  {
   "cell_type": "code",
   "execution_count": 83,
   "id": "37312997-5bae-439a-af34-2b90fd459f54",
   "metadata": {},
   "outputs": [
    {
     "name": "stderr",
     "output_type": "stream",
     "text": [
      "08:53 bilby INFO    : Waveform generator initiated with\n",
      "  frequency_domain_source_model: bilby.gw.source.lal_PerAdvFDLeO\n",
      "  time_domain_source_model: None\n",
      "  parameter_conversion: bilby.gw.conversion.convert_to_lal_binary_black_hole_parameters\n",
      "08:53 bilby INFO    : Waveform generator initiated with\n",
      "  frequency_domain_source_model: bilby.gw.source.lal_taylorF2_fd\n",
      "  time_domain_source_model: None\n",
      "  parameter_conversion: bilby.gw.conversion.convert_to_lal_binary_black_hole_parameters\n"
     ]
    },
    {
     "name": "stdout",
     "output_type": "stream",
     "text": [
      "match =  0.984456983928322\n"
     ]
    }
   ],
   "source": [
    "# for eccentric case \n",
    "# check these : reference_frequency, minimum_frequency, f_min\n",
    "############# defining waveform arguments ################\n",
    "injection_parameters = {'mass_1':36., 'mass_2':29., 'eccentricity':0.1, 'a_1':0., 'a_2':0., 'tilt_1':0.,\n",
    "                         'tilt_2':0., 'phi_12':0., 'phi_jl':0., 'luminosity_distance':600., 'theta_jn':0.4, 'psi':2.659, \n",
    "                         'phase':1.3, 'geocent_time':1246527184.169434, 'ra':1.375, 'dec':-1.2108,}\n",
    "\n",
    "duration = 16.\n",
    "reference_frequency= 20.\n",
    "minimum_frequency= 20.\n",
    "sampling_frequency = 2048.\n",
    "waveform_arguments1 = dict(waveform_approximant='PerAdvFDLeO',\n",
    "                          reference_frequency=reference_frequency, minimum_frequency=minimum_frequency)\n",
    "\n",
    "waveform_generator1 = bilby.gw.WaveformGenerator(\n",
    "    duration=duration, sampling_frequency=sampling_frequency,\n",
    "    frequency_domain_source_model=bilby.gw.source.lal_PerAdvFDLeO,\n",
    "    parameters=injection_parameters, waveform_arguments=waveform_arguments1)\n",
    "\n",
    "waveform_arguments2 = dict(waveform_approximant='TaylorF2',\n",
    "                          reference_frequency=reference_frequency, minimum_frequency=minimum_frequency, \\\n",
    "                           pn_phase_order=6, pn_amplitude_order=0.)\n",
    "\n",
    "waveform_generator2 = bilby.gw.WaveformGenerator(\n",
    "    duration=duration, sampling_frequency=sampling_frequency,\n",
    "    frequency_domain_source_model=bilby.gw.source.lal_taylorF2_fd,\n",
    "    parameters=injection_parameters, waveform_arguments=waveform_arguments2)\n",
    "\n",
    "match_ = match_calculator(waveform_generator1, waveform_arguments2, f_min=20., detector = 'L1', sampling_frequency=2048., \\\n",
    "                     injection_parameters=injection_parameters)\n",
    "print('match = ', match_['net'])"
   ]
  },
  {
   "cell_type": "markdown",
   "id": "300151ef-f3b5-4505-b2da-7995c40a03dc",
   "metadata": {},
   "source": [
    "## TaylorF2 (3PN) Vs TaylorF2 (3.5PN)"
   ]
  },
  {
   "cell_type": "code",
   "execution_count": 88,
   "id": "080b88d6-54ed-4b00-94a0-9dd2e477772d",
   "metadata": {},
   "outputs": [
    {
     "name": "stderr",
     "output_type": "stream",
     "text": [
      "08:58 bilby INFO    : Waveform generator initiated with\n",
      "  frequency_domain_source_model: bilby.gw.source.lal_taylorF2_fd\n",
      "  time_domain_source_model: None\n",
      "  parameter_conversion: bilby.gw.conversion.convert_to_lal_binary_black_hole_parameters\n",
      "08:58 bilby INFO    : Waveform generator initiated with\n",
      "  frequency_domain_source_model: bilby.gw.source.lal_taylorF2_fd\n",
      "  time_domain_source_model: None\n",
      "  parameter_conversion: bilby.gw.conversion.convert_to_lal_binary_black_hole_parameters\n"
     ]
    }
   ],
   "source": [
    "# check these : reference_frequency, minimum_frequency, f_min\n",
    "############# defining waveform arguments ################\n",
    "# \n",
    "injection_parameters = {'mass_1':1.61, 'mass_2':1.18, 'eccentricity':0.0001, 'a_1':0., 'a_2':0., 'tilt_1':0.,\n",
    "                         'tilt_2':0., 'phi_12':0., 'phi_jl':0., 'luminosity_distance':38.87, 'theta_jn':2.52, 'psi':3.293627,\n",
    "                         'phase':0., 'geocent_time':1187008882.43, 'ra':3.45, 'dec':-0.41,}\n",
    "\n",
    "duration = 16.\n",
    "reference_frequency= 20.\n",
    "minimum_frequency= 20.\n",
    "sampling_frequency = 2048.\n",
    "waveform_arguments1 = dict(waveform_approximant='TaylorF2',\n",
    "                          reference_frequency=reference_frequency, minimum_frequency=minimum_frequency, \\\n",
    "                           pn_phase_order=6, pn_amplitude_order=0.)\n",
    "\n",
    "waveform_generator1 = bilby.gw.WaveformGenerator(\n",
    "    duration=duration, sampling_frequency=sampling_frequency,\n",
    "    frequency_domain_source_model=bilby.gw.source.lal_taylorF2_fd,\n",
    "    parameters=injection_parameters, waveform_arguments=waveform_arguments2)\n",
    "\n",
    "waveform_arguments2 = dict(waveform_approximant='TaylorF2',\n",
    "                          reference_frequency=reference_frequency, minimum_frequency=minimum_frequency, \\\n",
    "                           pn_phase_order=7, pn_amplitude_order=0.)\n",
    "\n",
    "waveform_generator2 = bilby.gw.WaveformGenerator(\n",
    "    duration=duration, sampling_frequency=sampling_frequency,\n",
    "    frequency_domain_source_model=bilby.gw.source.lal_taylorF2_fd,\n",
    "    parameters=injection_parameters, waveform_arguments=waveform_arguments2)"
   ]
  },
  {
   "cell_type": "markdown",
   "id": "d84ba359-6cb5-4570-a907-bdb1438f8155",
   "metadata": {},
   "source": [
    "### changing mass_ratio"
   ]
  },
  {
   "cell_type": "code",
   "execution_count": 89,
   "id": "d0b32245-77e2-4d44-9a77-8e3311118b83",
   "metadata": {},
   "outputs": [
    {
     "name": "stdout",
     "output_type": "stream",
     "text": [
      "match =  1.0\n"
     ]
    }
   ],
   "source": [
    "match_ = match_calculator(waveform_generator1, waveform_arguments2, f_min=20., detector = 'L1', sampling_frequency=2048., \\\n",
    "                     injection_parameters=injection_parameters)\n",
    "print('match = ', match_['net'])"
   ]
  },
  {
   "cell_type": "code",
   "execution_count": 94,
   "id": "f4cf695e-6d91-407e-8e18-acdfbeaab2ff",
   "metadata": {},
   "outputs": [],
   "source": [
    "chirp_mass_ = 1.197449\n",
    "ratio = np.linspace(0.5,1,10)\n",
    "match_array = []\n",
    "for q in ratio:\n",
    "    mass_ratio_ = q\n",
    "    mass_1_ = (chirp_mass_*(1+mass_ratio_)**(1/5))/mass_ratio_**(3/5)\n",
    "    mass_2_ = chirp_mass_*mass_ratio_**(2/5)*(1+mass_ratio_)**(1/5)\n",
    "    injection_parameters_ = {'mass_1':mass_1_, 'mass_2':mass_2_, 'eccentricity':0.0001, 'a_1':0., 'a_2':0., 'tilt_1':0.,\n",
    "                         'tilt_2':0., 'phi_12':0., 'phi_jl':0., 'luminosity_distance':38.87, 'theta_jn':2.52, 'psi':3.293627, \n",
    "                         'phase':np.pi/4, 'geocent_time':1187008882.43, 'ra':3.45, 'dec':-0.41,}\n",
    "    \n",
    "    match_ = match_calculator(waveform_generator1, waveform_arguments2, f_min=20., detector = 'L1', sampling_frequency=2048., \\\n",
    "                     injection_parameters=injection_parameters_)\n",
    "    \n",
    "    match_array.append(match_['net'])"
   ]
  },
  {
   "cell_type": "code",
   "execution_count": 96,
   "id": "b51438bc-da19-478c-bfff-4b7f49f8f605",
   "metadata": {},
   "outputs": [
    {
     "data": {
      "image/png": "[encoded data removed]",
      "text/plain": [
       "<Figure size 640x480 with 1 Axes>"
      ]
     },
     "metadata": {},
     "output_type": "display_data"
    }
   ],
   "source": [
    "plt.plot(ratio,match_array) \n",
    "plt.gca().legend(('TaylorF2',))\n",
    "plt.xlabel(r\"mass_ratio\")\n",
    "plt.ylabel(r\"match\")\n",
    "plt.show()"
   ]
  },
  {
   "cell_type": "markdown",
   "id": "d3c4ea32-817b-483b-b4fd-b4e27f717a21",
   "metadata": {},
   "source": [
    "## PerAdvLeO Vs TaylorF2 (3PN)"
   ]
  },
  {
   "cell_type": "code",
   "execution_count": 98,
   "id": "36018f20-1ba1-4db0-badc-fe4827c50830",
   "metadata": {},
   "outputs": [
    {
     "name": "stderr",
     "output_type": "stream",
     "text": [
      "09:08 bilby INFO    : Waveform generator initiated with\n",
      "  frequency_domain_source_model: bilby.gw.source.lal_PerAdvFDLeO\n",
      "  time_domain_source_model: None\n",
      "  parameter_conversion: bilby.gw.conversion.convert_to_lal_binary_black_hole_parameters\n",
      "09:08 bilby INFO    : Waveform generator initiated with\n",
      "  frequency_domain_source_model: bilby.gw.source.lal_taylorF2_fd\n",
      "  time_domain_source_model: None\n",
      "  parameter_conversion: bilby.gw.conversion.convert_to_lal_binary_black_hole_parameters\n"
     ]
    }
   ],
   "source": [
    "# for eccentric case \n",
    "# check these : reference_frequency, minimum_frequency, f_min\n",
    "############# defining waveform arguments ################\n",
    "injection_parameters = {'mass_1':1.61, 'mass_2':1.18, 'eccentricity':0.0, 'a_1':0., 'a_2':0., 'tilt_1':0.,\n",
    "                         'tilt_2':0., 'phi_12':0., 'phi_jl':0., 'luminosity_distance':38.87, 'theta_jn':2.52, 'psi':3.293627,\n",
    "                         'phase':0., 'geocent_time':1187008882.43, 'ra':3.45, 'dec':-0.41,}\n",
    "\n",
    "duration = 16.\n",
    "reference_frequency= 20.\n",
    "minimum_frequency= 20.\n",
    "sampling_frequency = 2048.\n",
    "waveform_arguments1 = dict(waveform_approximant='PerAdvFDLeO',\n",
    "                          reference_frequency=reference_frequency, minimum_frequency=minimum_frequency)\n",
    "\n",
    "waveform_generator1 = bilby.gw.WaveformGenerator(\n",
    "    duration=duration, sampling_frequency=sampling_frequency,\n",
    "    frequency_domain_source_model=bilby.gw.source.lal_PerAdvFDLeO,\n",
    "    parameters=injection_parameters, waveform_arguments=waveform_arguments1)\n",
    "\n",
    "waveform_arguments2 = dict(waveform_approximant='TaylorF2',\n",
    "                          reference_frequency=reference_frequency, minimum_frequency=minimum_frequency, \\\n",
    "                           pn_phase_order=6, pn_amplitude_order=0.)\n",
    "\n",
    "waveform_generator2 = bilby.gw.WaveformGenerator(\n",
    "    duration=duration, sampling_frequency=sampling_frequency,\n",
    "    frequency_domain_source_model=bilby.gw.source.lal_taylorF2_fd,\n",
    "    parameters=injection_parameters, waveform_arguments=waveform_arguments2)"
   ]
  },
  {
   "cell_type": "markdown",
   "id": "f517ef33-6a03-4bd3-aa6b-8507f23fb824",
   "metadata": {},
   "source": [
    "### changing mass_ratio\n",
    "* e0=0.0 at f_min=20Hz"
   ]
  },
  {
   "cell_type": "code",
   "execution_count": 101,
   "id": "30eff1db-cdc0-48ef-860f-620773d9ffef",
   "metadata": {},
   "outputs": [],
   "source": [
    "chirp_mass_ = 1.197449\n",
    "ratio = np.linspace(0.5,1,10)\n",
    "match_array = []\n",
    "for q in ratio:\n",
    "    mass_ratio_ = q\n",
    "    mass_1_ = (chirp_mass_*(1+mass_ratio_)**(1/5))/mass_ratio_**(3/5)\n",
    "    mass_2_ = chirp_mass_*mass_ratio_**(2/5)*(1+mass_ratio_)**(1/5)\n",
    "    injection_parameters_ = {'mass_1':mass_1_, 'mass_2':mass_2_, 'eccentricity':0.0, 'a_1':0., 'a_2':0., 'tilt_1':0.,\n",
    "                         'tilt_2':0., 'phi_12':0., 'phi_jl':0., 'luminosity_distance':38.87, 'theta_jn':2.52, 'psi':3.293627, \n",
    "                         'phase':np.pi/4, 'geocent_time':1187008882.43, 'ra':3.45, 'dec':-0.41,}\n",
    "    \n",
    "    match_ = match_calculator(waveform_generator1, waveform_arguments2, f_min=20., detector = 'L1', sampling_frequency=2048., \\\n",
    "                     injection_parameters=injection_parameters_)\n",
    "    \n",
    "    match_array.append(match_['net'])"
   ]
  },
  {
   "cell_type": "code",
   "execution_count": 102,
   "id": "63367295-da60-4e82-9003-4ecb6090097c",
   "metadata": {},
   "outputs": [
    {
     "data": {
      "image/png": "[encoded data removed]",
      "text/plain": [
       "<Figure size 640x480 with 1 Axes>"
      ]
     },
     "metadata": {},
     "output_type": "display_data"
    }
   ],
   "source": [
    "plt.plot(ratio,match_array) \n",
    "plt.gca().legend(('TaylorF2',))\n",
    "plt.xlabel(r\"mass_ratio\")\n",
    "plt.ylabel(r\"match\")\n",
    "plt.show()"
   ]
  },
  {
   "cell_type": "markdown",
   "id": "53e3adbe-fa36-41ed-9ed8-e41122582fc5",
   "metadata": {},
   "source": [
    "* as expected match is very close to 1"
   ]
  },
  {
   "cell_type": "code",
   "execution_count": 109,
   "id": "7a9726e0-effb-4e43-9f22-d8668821d26c",
   "metadata": {},
   "outputs": [],
   "source": [
    "# e0=0.15 at f_min=20Hz\n",
    "chirp_mass_ = 1.197449\n",
    "ratio = np.linspace(0.5,1,10)\n",
    "match_array = []\n",
    "for q in ratio:\n",
    "    mass_ratio_ = q\n",
    "    mass_1_ = (chirp_mass_*(1+mass_ratio_)**(1/5))/mass_ratio_**(3/5)\n",
    "    mass_2_ = chirp_mass_*mass_ratio_**(2/5)*(1+mass_ratio_)**(1/5)\n",
    "    injection_parameters_ = {'mass_1':mass_1_, 'mass_2':mass_2_, 'eccentricity':0.15, 'a_1':0., 'a_2':0., 'tilt_1':0.,\n",
    "                         'tilt_2':0., 'phi_12':0., 'phi_jl':0., 'luminosity_distance':38.87, 'theta_jn':2.52, 'psi':3.293627, \n",
    "                         'phase':np.pi/4, 'geocent_time':1187008882.43, 'ra':3.45, 'dec':-0.41,}\n",
    "    \n",
    "    match_ = match_calculator(waveform_generator1, waveform_arguments2, f_min=20., detector = 'L1', sampling_frequency=2048., \\\n",
    "                     injection_parameters=injection_parameters_)\n",
    "    \n",
    "    match_array.append(match_['net'])"
   ]
  },
  {
   "cell_type": "code",
   "execution_count": 110,
   "id": "e28dbae7-f8c6-4c3f-b6d0-077bf22255ed",
   "metadata": {},
   "outputs": [
    {
     "data": {
      "image/png": "[encoded data removed]",
      "text/plain": [
       "<Figure size 640x480 with 1 Axes>"
      ]
     },
     "metadata": {},
     "output_type": "display_data"
    }
   ],
   "source": [
    "plt.plot(ratio,match_array) \n",
    "plt.gca().legend(('TaylorF2',))\n",
    "plt.xlabel(r\"mass_ratio\")\n",
    "plt.ylabel(r\"match\")\n",
    "plt.show()"
   ]
  },
  {
   "cell_type": "markdown",
   "id": "9a946dd2-ff86-422f-a6c9-b921637b90b7",
   "metadata": {},
   "source": [
    "* match is poor if eccentricity is included"
   ]
  },
  {
   "cell_type": "code",
   "execution_count": null,
   "id": "c69292f9-3a31-427b-ae79-6b115dfc8f00",
   "metadata": {},
   "outputs": [],
   "source": []
  },
  {
   "cell_type": "code",
   "execution_count": null,
   "id": "ee811f2b-17ea-4f0a-8bc2-a34388a17c32",
   "metadata": {},
   "outputs": [],
   "source": []
  }
 ],
 "metadata": {
  "kernelspec": {
   "display_name": "Python 3 (ipykernel)",
   "language": "python",
   "name": "python3"
  },
  "language_info": {
   "codemirror_mode": {
    "name": "ipython",
    "version": 3
   },
   "file_extension": ".py",
   "mimetype": "text/x-python",
   "name": "python",
   "nbconvert_exporter": "python",
   "pygments_lexer": "ipython3",
   "version": "3.10.6"
  }
 },
 "nbformat": 4,
 "nbformat_minor": 5
}
